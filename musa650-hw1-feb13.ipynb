{
 "cells": [
  {
   "cell_type": "markdown",
   "metadata": {},
   "source": [
    "## HW1 - Basics of ML\n",
    "Include your code in the relevant cells below.\n",
    "Subparts labeled as questions (Q1.1, Q1.2, etc.) should have their answers filled in or plots placed prominently, as appropriate."
   ]
  },
  {
   "cell_type": "markdown",
   "metadata": {},
   "source": [
    "#### Important notes: \n",
    "\n",
    "1. On this and future homeworks, depending on the data size and your hardware configuration, experiments may take too long if you use the complete dataset. This may be challenging, as you may need to run multiple experiments. So, if an experiment takes too much time, start first with a smaller sample that will allow you to run your code within a reasonable time. Once you complete all tasks, before the final submission, you can allow longer run times and run your code with the complete set. However, if this is still taking too much time or causing your computer to freeze, it will be OK to submit experiments using a sample size that is feasible for your setting (indicate it clearly in your submission). Grading of the homework will not be affected from this type of variations in the design of your experiments.\n",
    "\n",
    "\n",
    "2. You can switch between 2D image data and 1D vector data using the numpy functions flatten() and resize()"
   ]
  },
  {
   "cell_type": "markdown",
   "metadata": {},
   "source": [
    "### S1: Filtering the data\n",
    "- Load MNIST FASHION dataset (hint: use the practice notebook)\n",
    "- Select a training set with the first n=100 samples from each category\n",
    "- Select a testing set with the first n=100 samples from each category\n",
    "- Create a numpy matrix named mat_avg defined as:\n",
    "  A 10 x 2 matrix with the average intensity of all images in each category for the training and testing sets (rows: 10 categories, columns: average intensity in train set,  average intensity in test set)\n",
    "\n",
    "Q1.1: Which category has the largest average intensity value in training data:   **coat**\n",
    "\n",
    "Q1.2: Which category has the largest average intensity value in testing data:   **coat**"
   ]
  },
  {
   "cell_type": "code",
   "execution_count": 1,
   "metadata": {},
   "outputs": [
    {
     "name": "stderr",
     "output_type": "stream",
     "text": [
      "/var/folders/h_/pxhj6fqj4y3fqkpmr3g9dd3c0000gq/T/ipykernel_38181/3459056358.py:2: DeprecationWarning: \n",
      "Pyarrow will become a required dependency of pandas in the next major release of pandas (pandas 3.0),\n",
      "(to allow more performant data types, such as the Arrow string type, and better interoperability with other libraries)\n",
      "but was not found to be installed on your system.\n",
      "If this would cause problems for you,\n",
      "please provide us feedback at https://github.com/pandas-dev/pandas/issues/54466\n",
      "        \n",
      "  import pandas as pd\n"
     ]
    }
   ],
   "source": [
    "import numpy as np\n",
    "import pandas as pd\n",
    "import matplotlib.pyplot as plt\n",
    "%matplotlib inline"
   ]
  },
  {
   "cell_type": "code",
   "execution_count": 2,
   "metadata": {},
   "outputs": [],
   "source": [
    "## import fashion MNIST data using tensorflow\n",
    "import tensorflow as tf\n",
    "mnist = tf.keras.datasets.fashion_mnist"
   ]
  },
  {
   "cell_type": "code",
   "execution_count": 3,
   "metadata": {},
   "outputs": [
    {
     "name": "stdout",
     "output_type": "stream",
     "text": [
      "X_tr: (60000, 28, 28)\n",
      "Y_tr: (60000,)\n",
      "X_te:  (10000, 28, 28)\n",
      "Y_te:  (10000,)\n"
     ]
    },
    {
     "data": {
      "text/plain": [
       "numpy.ndarray"
      ]
     },
     "execution_count": 3,
     "metadata": {},
     "output_type": "execute_result"
    }
   ],
   "source": [
    "(X_tr, Y_tr), (X_te, Y_te) = mnist.load_data() #create tuples for train/test\n",
    "\n",
    "# shape of train/test sets\n",
    "print('X_tr: ' + str(X_tr.shape))\n",
    "print('Y_tr: ' + str(Y_tr.shape))\n",
    "print('X_te:  '  + str(X_te.shape))\n",
    "print('Y_te:  '  + str(Y_te.shape))\n",
    "\n",
    "type(X_tr)"
   ]
  },
  {
   "cell_type": "code",
   "execution_count": 4,
   "metadata": {},
   "outputs": [
    {
     "name": "stdout",
     "output_type": "stream",
     "text": [
      "Unique labels: (array([0, 1, 2, 3, 4, 5, 6, 7, 8, 9], dtype=uint8), array([6000, 6000, 6000, 6000, 6000, 6000, 6000, 6000, 6000, 6000]))\n"
     ]
    }
   ],
   "source": [
    "#unique labels - there are 10 unique labels\n",
    "print('Unique labels: ' + str(np.unique(Y_tr, return_counts=True)))\n",
    "\n",
    "class_names = ['T-shirt/top', 'Trouser', 'Pullover', 'Dress', 'Coat', 'Sandal', 'Shirt', 'Sneaker', 'Bag', 'Ankle boot']"
   ]
  },
  {
   "cell_type": "code",
   "execution_count": 5,
   "metadata": {},
   "outputs": [
    {
     "data": {
      "image/png": "[encoded data removed]",
      "text/plain": [
       "<Figure size 500x500 with 9 Axes>"
      ]
     },
     "metadata": {},
     "output_type": "display_data"
    }
   ],
   "source": [
    "plt.figure(figsize=(5, 5))\n",
    "for i in range(9):\n",
    "    plt.subplot(3, 3, i+1)\n",
    "    plt.xticks([])\n",
    "    plt.yticks([])\n",
    "    plt.grid(\"off\")\n",
    "    plt.imshow(X_tr[i], cmap=plt.cm.binary)\n",
    "    plt.xlabel(class_names[Y_tr[i]])"
   ]
  },
  {
   "cell_type": "code",
   "execution_count": 6,
   "metadata": {},
   "outputs": [],
   "source": [
    "# create samples\n",
    "def sample_data(X, Y):\n",
    "    # Initialize containers for the sampled data\n",
    "    X_sampled = []\n",
    "    Y_sampled = []\n",
    "\n",
    "    # Iterate over each unique label in Y\n",
    "    for label in np.unique(Y):\n",
    "        # Find indices where the label occurs\n",
    "        indices = np.where(Y == label)[0]\n",
    "        \n",
    "        # Select the first 100 observations for this label\n",
    "        selected_indices = indices[:100]\n",
    "        \n",
    "        # Append the selected observations to the sampled data containers\n",
    "        X_sampled.append(X[selected_indices])\n",
    "        Y_sampled.append(Y[selected_indices])\n",
    "    \n",
    "    # Concatenate the list of arrays into a single array\n",
    "    X_sampled = np.vstack(X_sampled)\n",
    "    Y_sampled = np.concatenate(Y_sampled)\n",
    "    \n",
    "    return X_sampled, Y_sampled\n",
    "\n",
    "X_tr_2, Y_tr_2 = sample_data(X_tr, Y_tr)\n",
    "X_te_2, Y_te_2 = sample_data(X_te, Y_te)"
   ]
  },
  {
   "cell_type": "code",
   "execution_count": 7,
   "metadata": {},
   "outputs": [
    {
     "name": "stdout",
     "output_type": "stream",
     "text": [
      "X_train: (1000, 28, 28)\n",
      "Y_train: (1000,)\n",
      "X_test:  (1000, 28, 28)\n",
      "Y_test:  (1000,)\n"
     ]
    }
   ],
   "source": [
    "# shape of final train/test sets\n",
    "print('X_train: ' + str(X_tr_2.shape))\n",
    "print('Y_train: ' + str(Y_tr_2.shape))\n",
    "print('X_test:  '  + str(X_te_2.shape))\n",
    "print('Y_test:  '  + str(Y_te_2.shape))"
   ]
  },
  {
   "cell_type": "code",
   "execution_count": 8,
   "metadata": {},
   "outputs": [
    {
     "name": "stdout",
     "output_type": "stream",
     "text": [
      "Label: T-shirt/top\n",
      " Train: 83.02998044217686\n",
      " Test: 83.62365688775509\n",
      "\n",
      "Label: Trouser\n",
      " Train: 56.84085522959183\n",
      " Test: 56.98140816326531\n",
      "\n",
      "Label: Pullover\n",
      " Train: 96.058762542517\n",
      " Test: 95.35267474489795\n",
      "\n",
      "Label: Dress\n",
      " Train: 66.01890858843538\n",
      " Test: 66.39501658163265\n",
      "\n",
      "Label: Coat\n",
      " Train: 98.25800552721088\n",
      " Test: 99.74509183673469\n",
      "\n",
      "Label: Sandal\n",
      " Train: 34.86754655612245\n",
      " Test: 34.75733163265306\n",
      "\n",
      "Label: Shirt\n",
      " Train: 84.60511989795917\n",
      " Test: 84.85841326530613\n",
      "\n",
      "Label: Sneaker\n",
      " Train: 42.76207227891157\n",
      " Test: 43.019793367346935\n",
      "\n",
      "Label: Bag\n",
      " Train: 90.15715284863944\n",
      " Test: 90.13894387755101\n",
      "\n",
      "Label: Ankle boot\n",
      " Train: 76.80511840986395\n",
      " Test: 76.59333545918366\n",
      "\n"
     ]
    }
   ],
   "source": [
    "\n",
    "def calculate_average_intensity(X, Y):\n",
    "    # Initialize a dictionary to store the average intensity for each label\n",
    "    average_intensities = {}\n",
    "    \n",
    "    # Get unique labels\n",
    "    unique_labels = np.unique(Y)\n",
    "    \n",
    "    # Iterate over each label to group pictures and calculate average intensity\n",
    "    for label in unique_labels:\n",
    "        # Find indices of pictures with the current label\n",
    "        indices = np.where(Y == label)[0]\n",
    "        \n",
    "        # Select the pictures with the current label\n",
    "        pictures = X[indices]\n",
    "        \n",
    "        # Calculate the average intensity for the current label\n",
    "        # For each picture, calculate its mean intensity, then calculate the mean of these means for the label\n",
    "        average_intensity = np.mean([np.mean(picture) for picture in pictures])\n",
    "        \n",
    "        # Store the average intensity in the dictionary\n",
    "        average_intensities[label] = average_intensity\n",
    "\n",
    "        # Convert the dictionary to a numpy array\n",
    "        intensities_np = list(average_intensities.values())\n",
    "    return intensities_np\n",
    "\n",
    "\n",
    "intensity_train = calculate_average_intensity(X_tr, Y_tr)\n",
    "intensity_test = calculate_average_intensity(X_te, Y_te)\n",
    "\n",
    "mat_avg = np.column_stack((intensity_train, intensity_test))\n",
    "\n",
    "for i in range(10):\n",
    "    print('Label: ' + class_names[i])\n",
    "    print(' Train: ' + str(mat_avg[i, 0]))\n",
    "    print(' Test: ' + str(mat_avg[i, 1]))\n",
    "    print('')"
   ]
  },
  {
   "cell_type": "markdown",
   "metadata": {},
   "source": [
    "### S2: Finding the average image\n",
    "- Find and display a single average image of all shoes (categories 'Sandal', 'Sneaker', 'Ankle boot') in training and testing data (use the smaller sample you created)"
   ]
  },
  {
   "cell_type": "code",
   "execution_count": 18,
   "metadata": {},
   "outputs": [],
   "source": [
    "shoe_list = [5, 7, 9]\n",
    "\n",
    "# training set \n",
    "# make a mask\n",
    "mask = np.isin(Y_tr_2, shoe_list)\n",
    "\n",
    "# Use the mask to filter Y_tr_2\n",
    "y_tr_shoe = Y_tr_2[mask]\n",
    "\n",
    "# Use the same mask to filter X_tr_2\n",
    "x_tr_shoe = X_tr_2[mask]\n",
    "\n",
    "\n",
    "# testing set\n",
    "# make a mask\n",
    "mask = np.isin(Y_te_2, shoe_list)\n",
    "\n",
    "# Use the mask to filter Y_te_2\n",
    "y_te_shoe = Y_te_2[mask]\n",
    "\n",
    "# Use the same mask to filter X_te_2\n",
    "x_te_shoe = X_te_2[mask]"
   ]
  },
  {
   "cell_type": "code",
   "execution_count": 19,
   "metadata": {},
   "outputs": [
    {
     "data": {
      "text/plain": [
       "Text(0.5, 1.0, 'The average shoe')"
      ]
     },
     "execution_count": 19,
     "metadata": {},
     "output_type": "execute_result"
    },
    {
     "data": {
      "image/png": "[encoded data removed]",
      "text/plain": [
       "<Figure size 300x300 with 1 Axes>"
      ]
     },
     "metadata": {},
     "output_type": "display_data"
    }
   ],
   "source": [
    "def avg_img(x_train, x_test, y_train, y_test):\n",
    "# create list of shoe classes\n",
    "   # shoes = [5, 7, 9]\n",
    "    shoe_list = []\n",
    "\n",
    "# for-loop: iterate through train/test images and append to list if label is shoe\n",
    "    for i in range(len(x_train)):\n",
    "       # if y_train[i] in shoes:\n",
    "        shoe_list.append(x_train[i])\n",
    "        #if y_test[i] in shoes:\n",
    "        shoe_list.append(x_test[i])\n",
    "\n",
    "# convert list to numpy array\n",
    "    shoe_list_np = np.array(shoe_list)\n",
    "\n",
    "# use np.mean to calculate average shoe \n",
    "    avg_shoe = np.mean(shoe_list_np, axis = 0) # axis = 0 is crucial, otherwise it just calculates the mean intensity across all pixels\n",
    "    return avg_shoe \n",
    "\n",
    "\n",
    "# avg shoe\n",
    "avg_shoe = avg_img(x_tr_shoe, x_te_shoe, y_tr_shoe, y_te_shoe)\n",
    "\n",
    "# map average image\n",
    "plt.figure(figsize=(3,3)) \n",
    "plt.xticks([])\n",
    "plt.yticks([])\n",
    "plt.grid(\"off\")\n",
    "plt.box(False)  \n",
    "plt.imshow(avg_shoe, cmap=plt.cm.binary)\n",
    "plt.title(\"The average shoe\")"
   ]
  },
  {
   "cell_type": "markdown",
   "metadata": {},
   "source": [
    "### S3: Image distances\n",
    "In the training set, find the shoe image that is most dissimilar from the mean shoe image. Show it as a 2D image  \n",
    "In the training set, find the shoe image that is most similar from the mean shoe image. Show it as a 2D image  \n",
    "Do the same for the testing set  \n",
    "Hint: You can use the \"euclidean distance\" as your similarity metric. Given that an image i is represented with a flattened feature vector v_i , and the second image j with v_m, the distance between these two images can be calculated using the vector norm of their differences ( | v_i - v_j | )\n",
    "\n",
    "Q3.1: What is the index of most similar shoe image in the training set: 189\n",
    "\n",
    "Q3.2: What is the index of most dissimilar shoe image in the training set: 236\n",
    "\n",
    "Q3.1: What is the index of most dissimilar shoe image in the testing set: 257\n"
   ]
  },
  {
   "cell_type": "code",
   "execution_count": 20,
   "metadata": {},
   "outputs": [],
   "source": [
    "# function: shoe distance comparison\n",
    "def shoe_dist(mean_shoe, shoe_x, shoe_y, metric):\n",
    "    dist_list = []\n",
    "    shoes = [5, 7, 9]\n",
    "\n",
    "    for i in range(len(shoe_x)):\n",
    "        dist = np.abs(mean_shoe - shoe_x[i])\n",
    "        dist_mean = np.mean(dist)\n",
    "        dist_list.append(dist_mean)\n",
    "\n",
    "    if metric == min:\n",
    "        index = dist_list.index(min(dist_list))\n",
    "    elif metric == max:\n",
    "        index = dist_list.index(max(dist_list))\n",
    "\n",
    "    return shoe_x[index], index"
   ]
  },
  {
   "cell_type": "code",
   "execution_count": 21,
   "metadata": {},
   "outputs": [
    {
     "data": {
      "image/png": "[encoded data removed]",
      "text/plain": [
       "<Figure size 600x300 with 2 Axes>"
      ]
     },
     "metadata": {},
     "output_type": "display_data"
    }
   ],
   "source": [
    "# training set\n",
    "\n",
    "closest_tr, closest_tr_index = shoe_dist(avg_shoe, x_tr_shoe, y_tr_shoe, min)\n",
    "farthest_tr, farthest_tr_index = shoe_dist(avg_shoe, x_tr_shoe, y_tr_shoe, max)\n",
    "\n",
    "# Create a figure to hold the subplots\n",
    "plt.figure(figsize=(6,3)) # Adjust the figure size as needed\n",
    "\n",
    "# Plot the closest shoe\n",
    "plt.subplot(1, 2, 1) # (rows, columns, subplot number)\n",
    "plt.xticks([])\n",
    "plt.yticks([])\n",
    "plt.box(False) # Use False instead of \"off\"\n",
    "plt.grid(False) # Use False instead of \"off\"\n",
    "plt.imshow(closest_tr, cmap=plt.cm.binary)\n",
    "plt.title(\"Closest training shoe: \" + class_names[y_tr_shoe[closest_tr_index]])\n",
    "\n",
    "# Plot the farthest shoe\n",
    "plt.subplot(1, 2, 2) # (rows, columns, subplot number)\n",
    "plt.xticks([])\n",
    "plt.yticks([])\n",
    "plt.box(False) # Use False instead of \"off\"\n",
    "plt.grid(False) # Use False instead of \"off\"\n",
    "plt.imshow(farthest_tr, cmap=plt.cm.binary)\n",
    "plt.title(\"Farthest training shoe: \" + class_names[y_tr_shoe[farthest_tr_index]])\n",
    "\n",
    "plt.tight_layout() # Adjust subplots to fit into the figure area.\n",
    "plt.show() # Display the figure with the plots\n"
   ]
  },
  {
   "cell_type": "code",
   "execution_count": 13,
   "metadata": {},
   "outputs": [
    {
     "data": {
      "image/png": "[encoded data removed]",
      "text/plain": [
       "<Figure size 600x300 with 2 Axes>"
      ]
     },
     "metadata": {},
     "output_type": "display_data"
    }
   ],
   "source": [
    "# testing set\n",
    "\n",
    "closest_te, closest_te_index = shoe_dist(avg_shoe, x_te_shoe, y_te_shoe, min)\n",
    "farthest_te, farthest_te_index = shoe_dist(avg_shoe, x_te_shoe, y_te_shoe, max)\n",
    "\n",
    "# Create a figure to hold the subplots\n",
    "plt.figure(figsize=(6,3)) # Adjust the figure size as needed\n",
    "\n",
    "# Plot the closest shoe\n",
    "plt.subplot(1, 2, 1) # (rows, columns, subplot number)\n",
    "plt.xticks([])\n",
    "plt.yticks([])\n",
    "plt.box(False) # Use False instead of \"off\"\n",
    "plt.grid(False) # Use False instead of \"off\"\n",
    "plt.imshow(closest_te, cmap=plt.cm.binary)\n",
    "plt.title(\"Closest testing shoe: \" + class_names[y_te_shoe[closest_te_index]])\n",
    "\n",
    "# Plot the farthest shoe\n",
    "plt.subplot(1, 2, 2) # (rows, columns, subplot number)\n",
    "plt.xticks([])\n",
    "plt.yticks([])\n",
    "plt.box(False) # Use False instead of \"off\"\n",
    "plt.grid(False) # Use False instead of \"off\"\n",
    "plt.imshow(farthest_te, cmap=plt.cm.binary)\n",
    "plt.title(\"Farthest testing shoe: \" + class_names[y_te_shoe[farthest_te_index]])\n",
    "\n",
    "plt.tight_layout() # Adjust subplots to fit into the figure area.\n",
    "plt.show() # Display the figure with the plots"
   ]
  },
  {
   "cell_type": "code",
   "execution_count": 22,
   "metadata": {},
   "outputs": [
    {
     "name": "stdout",
     "output_type": "stream",
     "text": [
      "Most similar shoe in training set: Sneaker (189)\n",
      "Most dissimilar shoe in training set: Ankle boot (236)\n",
      "\n",
      "Most similar shoe in testing set: Sneaker (176)\n",
      "Most dissimilar shoe in testing set: Ankle boot (257)\n"
     ]
    }
   ],
   "source": [
    "# most similar/dissimilar shoes from average shoe\n",
    "print('Most similar shoe in training set: ' + class_names[y_tr_shoe[closest_tr_index]] + \" (\" + str(closest_tr_index) + \")\")\n",
    "print('Most dissimilar shoe in training set: ' + class_names[y_tr_shoe[farthest_tr_index]] + \" (\" + str(farthest_tr_index) + \")\")  \n",
    "print(\"\")   \n",
    "print('Most similar shoe in testing set: ' + class_names[y_te_shoe[closest_te_index]] + \" (\" + str(closest_te_index) + \")\")  \n",
    "print('Most dissimilar shoe in testing set: ' + class_names[y_te_shoe[farthest_te_index]] + \" (\" + str(farthest_te_index) + \")\") "
   ]
  },
  {
   "cell_type": "markdown",
   "metadata": {},
   "source": [
    "### S4: Train a classifier to differentiate shoes from no-shoes\n",
    "- Create new labels for train and test images as shoes (1) or no-shoes (0)\n",
    "- Train 2 different classifiers on the training set (SVM and Random Forest). Apply the classifiers on the testing data\n",
    "- Display the confusion matrix of each classifier\n",
    "- Display 4 images that are mis-classified as shoes by each classifier\n",
    "\n",
    "Q1.1: What is the testing accuracy of each classifier:   ___\n",
    "\n",
    "Q1.2: What is the category (original label) that is most frequently mis-classified as a shoe:   ___\n",
    "\n",
    "Q1.3: What is the category (original label) that is most frequently mis-classified as a non-shoe:   ___\n"
   ]
  },
  {
   "cell_type": "code",
   "execution_count": 15,
   "metadata": {},
   "outputs": [],
   "source": [
    "# new binary label: shoe vs not shoe\n",
    "\n",
    "# training set\n",
    "y_tr_bi = Y_tr_2.copy()\n",
    "\n",
    "for i in range(len(y_tr_bi)):\n",
    "    if y_tr_bi[i] in y_tr_shoe:\n",
    "        y_tr_bi[i] = 1\n",
    "    else:\n",
    "        y_tr_bi[i] = 0\n",
    "\n",
    "# testing set\n",
    "y_te_bi = Y_te_2.copy()\n",
    "\n",
    "for i in range(len(y_te_bi)):\n",
    "    if y_te_bi[i] in y_te_shoe:\n",
    "        y_te_bi[i] = 1\n",
    "    else:\n",
    "        y_te_bi[i] = 0"
   ]
  },
  {
   "cell_type": "markdown",
   "metadata": {},
   "source": [
    "## Support Vector Machine"
   ]
  },
  {
   "cell_type": "code",
   "execution_count": 25,
   "metadata": {},
   "outputs": [
    {
     "name": "stdout",
     "output_type": "stream",
     "text": [
      "(1000, 784)\n",
      "(1000,)\n"
     ]
    }
   ],
   "source": [
    "Y = y_te_bi.copy()\n",
    "X = X_te_2.reshape(X_te_2.shape[0], -1)\n",
    "print(X.shape)\n",
    "print(Y.shape)"
   ]
  },
  {
   "cell_type": "code",
   "execution_count": 26,
   "metadata": {},
   "outputs": [],
   "source": [
    "#split train test\n",
    "from sklearn.model_selection import train_test_split\n",
    "X_train, X_test, y_train, y_test = train_test_split(X, Y, test_size=0.4 \n",
    ", random_state=42)"
   ]
  },
  {
   "cell_type": "code",
   "execution_count": 27,
   "metadata": {},
   "outputs": [],
   "source": [
    "from sklearn import svm\n",
    "\n",
    "# Create the svm classifier\n",
    "clf = svm.SVC(kernel='linear') # Linear Kernel\n",
    "\n",
    "# Train the model\n",
    "clf.fit(X_train, y_train)\n",
    "\n",
    "# Predict the label\n",
    "y_pred = clf.predict(X_test)"
   ]
  },
  {
   "cell_type": "code",
   "execution_count": 28,
   "metadata": {},
   "outputs": [
    {
     "name": "stdout",
     "output_type": "stream",
     "text": [
      "Accuracy:  1.0\n"
     ]
    }
   ],
   "source": [
    "from sklearn import metrics\n",
    "print('Accuracy: ', metrics.accuracy_score(y_test, y_pred))"
   ]
  },
  {
   "cell_type": "code",
   "execution_count": 29,
   "metadata": {},
   "outputs": [
    {
     "name": "stdout",
     "output_type": "stream",
     "text": [
      "Accuracy:  0.9966666666666667\n"
     ]
    }
   ],
   "source": [
    "# Train the model\n",
    "clf.fit(X_test, y_test)\n",
    "\n",
    "# Predict the label\n",
    "y_pred = clf.predict(X_train)\n",
    "\n",
    "print('Accuracy: ', metrics.accuracy_score(y_train, y_pred))"
   ]
  },
  {
   "cell_type": "code",
   "execution_count": null,
   "metadata": {},
   "outputs": [],
   "source": []
  },
  {
   "cell_type": "markdown",
   "metadata": {},
   "source": [
    "### Bonus:\n",
    "\n",
    "- In question S4 you have a chance to discard one of image categories that are part of the non-shoe set. Which category would you prefer to discard? Explain and justify with data\n"
   ]
  }
 ],
 "metadata": {
  "kernelspec": {
   "display_name": "Python 3 (ipykernel)",
   "language": "python",
   "name": "python3"
  },
  "language_info": {
   "codemirror_mode": {
    "name": "ipython",
    "version": 3
   },
   "file_extension": ".py",
   "mimetype": "text/x-python",
   "name": "python",
   "nbconvert_exporter": "python",
   "pygments_lexer": "ipython3",
   "version": "3.9.18"
  }
 },
 "nbformat": 4,
 "nbformat_minor": 4
}
